{
  "nbformat": 4,
  "nbformat_minor": 0,
  "metadata": {
    "colab": {
      "provenance": [],
      "include_colab_link": true
    },
    "kernelspec": {
      "name": "python3",
      "display_name": "Python 3"
    },
    "language_info": {
      "name": "python"
    }
  },
  "cells": [
    {
      "cell_type": "markdown",
      "metadata": {
        "id": "view-in-github",
        "colab_type": "text"
      },
      "source": [
        "<a href=\"https://colab.research.google.com/github/NanyGit/Mediana-compra-predicci-n/blob/main/Amanda_final.ipynb\" target=\"_parent\"><img src=\"https://colab.research.google.com/assets/colab-badge.svg\" alt=\"Open In Colab\"/></a>"
      ]
    },
    {
      "cell_type": "code",
      "execution_count": null,
      "metadata": {
        "id": "tNhzxJOMtm4i"
      },
      "outputs": [],
      "source": [
        "#importamos las librerias\n",
        "import numpy as np\n",
        "import pandas as pd\n",
        "import datetime"
      ]
    },
    {
      "cell_type": "code",
      "source": [
        "#librerias para graficar\n",
        "import matplotlib.pyplot as plt\n",
        "plt.style.use('fivethirtyeight')\n",
        "plt.rcParams['lines.linewidth'] = 1.5\n",
        "%matplotlib inline"
      ],
      "metadata": {
        "id": "LqUH8VWGtqTs"
      },
      "execution_count": null,
      "outputs": []
    },
    {
      "cell_type": "code",
      "source": [
        "!git clone https://github.com/NanyGit/Mediana-compra-predicci-n.git"
      ],
      "metadata": {
        "colab": {
          "base_uri": "https://localhost:8080/"
        },
        "id": "i6ec-PiUYJVK",
        "outputId": "3f129d8b-d04e-4223-887a-136e1711e664"
      },
      "execution_count": null,
      "outputs": [
        {
          "output_type": "stream",
          "name": "stdout",
          "text": [
            "Cloning into 'Mediana-compra-predicci-n'...\n",
            "remote: Enumerating objects: 12, done.\u001b[K\n",
            "remote: Counting objects: 100% (12/12), done.\u001b[K\n",
            "remote: Compressing objects: 100% (12/12), done.\u001b[K\n",
            "remote: Total 12 (delta 3), reused 0 (delta 0), pack-reused 0\u001b[K\n",
            "Unpacking objects: 100% (12/12), done.\n"
          ]
        }
      ]
    },
    {
      "cell_type": "code",
      "source": [
        "#importamos de las librerias las funciones necesarias e importamos un modelo de prediccion llamado skforecast \n",
        "from sklearn.linear_model import LinearRegression\n",
        "from sklearn.linear_model import Lasso\n",
        "from sklearn.ensemble import RandomForestRegressor\n",
        "from sklearn.metrics import mean_squared_error\n",
        "from sklearn.preprocessing import StandardScaler\n",
        "from sklearn.pipeline import make_pipeline\n",
        "!pip install skforecast\n",
        "from skforecast.ForecasterAutoreg import ForecasterAutoreg\n",
        "from skforecast.ForecasterAutoregCustom import ForecasterAutoregCustom\n",
        "from skforecast.ForecasterAutoregDirect import ForecasterAutoregDirect\n",
        "from skforecast.model_selection import grid_search_forecaster\n",
        "from skforecast.model_selection import backtesting_forecaster\n",
        "from skforecast.utils import save_forecaster\n",
        "from skforecast.utils import load_forecaster\n",
        "import warnings\n",
        "warnings.filterwarnings('ignore')"
      ],
      "metadata": {
        "colab": {
          "base_uri": "https://localhost:8080/"
        },
        "id": "8dQcFGzHtx5i",
        "outputId": "702f39a5-7abf-4e36-e122-3798cfe20c26"
      },
      "execution_count": null,
      "outputs": [
        {
          "output_type": "stream",
          "name": "stdout",
          "text": [
            "Looking in indexes: https://pypi.org/simple, https://us-python.pkg.dev/colab-wheels/public/simple/\n",
            "Collecting skforecast\n",
            "  Downloading skforecast-0.6.0-py2.py3-none-any.whl (216 kB)\n",
            "\u001b[K     |████████████████████████████████| 216 kB 5.3 MB/s \n",
            "\u001b[?25hRequirement already satisfied: tqdm<4.65,>=4.57.0 in /usr/local/lib/python3.8/dist-packages (from skforecast) (4.64.1)\n",
            "Requirement already satisfied: joblib<1.3.0,>=1.1.0 in /usr/local/lib/python3.8/dist-packages (from skforecast) (1.2.0)\n",
            "Requirement already satisfied: numpy<1.24,>=1.20 in /usr/local/lib/python3.8/dist-packages (from skforecast) (1.21.6)\n",
            "Collecting scikit-optimize==0.9.0\n",
            "  Downloading scikit_optimize-0.9.0-py2.py3-none-any.whl (100 kB)\n",
            "\u001b[K     |████████████████████████████████| 100 kB 8.2 MB/s \n",
            "\u001b[?25hCollecting optuna<3.1,>=2.10.0\n",
            "  Downloading optuna-3.0.5-py3-none-any.whl (348 kB)\n",
            "\u001b[K     |████████████████████████████████| 348 kB 42.8 MB/s \n",
            "\u001b[?25hRequirement already satisfied: scikit-learn<1.2,>=1.0 in /usr/local/lib/python3.8/dist-packages (from skforecast) (1.0.2)\n",
            "Requirement already satisfied: pandas<1.6,>=1.2 in /usr/local/lib/python3.8/dist-packages (from skforecast) (1.3.5)\n",
            "Collecting pyaml>=16.9\n",
            "  Downloading pyaml-21.10.1-py2.py3-none-any.whl (24 kB)\n",
            "Requirement already satisfied: scipy>=0.19.1 in /usr/local/lib/python3.8/dist-packages (from scikit-optimize==0.9.0->skforecast) (1.7.3)\n",
            "Requirement already satisfied: sqlalchemy>=1.3.0 in /usr/local/lib/python3.8/dist-packages (from optuna<3.1,>=2.10.0->skforecast) (1.4.45)\n",
            "Collecting colorlog\n",
            "  Downloading colorlog-6.7.0-py2.py3-none-any.whl (11 kB)\n",
            "Requirement already satisfied: PyYAML in /usr/local/lib/python3.8/dist-packages (from optuna<3.1,>=2.10.0->skforecast) (6.0)\n",
            "Collecting importlib-metadata<5.0.0\n",
            "  Downloading importlib_metadata-4.13.0-py3-none-any.whl (23 kB)\n",
            "Requirement already satisfied: packaging>=20.0 in /usr/local/lib/python3.8/dist-packages (from optuna<3.1,>=2.10.0->skforecast) (21.3)\n",
            "Collecting cmaes>=0.8.2\n",
            "  Downloading cmaes-0.9.0-py3-none-any.whl (23 kB)\n",
            "Collecting alembic>=1.5.0\n",
            "  Downloading alembic-1.9.0-py3-none-any.whl (210 kB)\n",
            "\u001b[K     |████████████████████████████████| 210 kB 56.0 MB/s \n",
            "\u001b[?25hCollecting cliff\n",
            "  Downloading cliff-4.1.0-py3-none-any.whl (81 kB)\n",
            "\u001b[K     |████████████████████████████████| 81 kB 8.8 MB/s \n",
            "\u001b[?25hRequirement already satisfied: importlib-resources in /usr/local/lib/python3.8/dist-packages (from alembic>=1.5.0->optuna<3.1,>=2.10.0->skforecast) (5.10.1)\n",
            "Collecting Mako\n",
            "  Downloading Mako-1.2.4-py3-none-any.whl (78 kB)\n",
            "\u001b[K     |████████████████████████████████| 78 kB 5.8 MB/s \n",
            "\u001b[?25hRequirement already satisfied: zipp>=0.5 in /usr/local/lib/python3.8/dist-packages (from importlib-metadata<5.0.0->optuna<3.1,>=2.10.0->skforecast) (3.11.0)\n",
            "Requirement already satisfied: pyparsing!=3.0.5,>=2.0.2 in /usr/local/lib/python3.8/dist-packages (from packaging>=20.0->optuna<3.1,>=2.10.0->skforecast) (3.0.9)\n",
            "Requirement already satisfied: python-dateutil>=2.7.3 in /usr/local/lib/python3.8/dist-packages (from pandas<1.6,>=1.2->skforecast) (2.8.2)\n",
            "Requirement already satisfied: pytz>=2017.3 in /usr/local/lib/python3.8/dist-packages (from pandas<1.6,>=1.2->skforecast) (2022.6)\n",
            "Requirement already satisfied: six>=1.5 in /usr/local/lib/python3.8/dist-packages (from python-dateutil>=2.7.3->pandas<1.6,>=1.2->skforecast) (1.15.0)\n",
            "Requirement already satisfied: threadpoolctl>=2.0.0 in /usr/local/lib/python3.8/dist-packages (from scikit-learn<1.2,>=1.0->skforecast) (3.1.0)\n",
            "Requirement already satisfied: greenlet!=0.4.17 in /usr/local/lib/python3.8/dist-packages (from sqlalchemy>=1.3.0->optuna<3.1,>=2.10.0->skforecast) (2.0.1)\n",
            "Collecting autopage>=0.4.0\n",
            "  Downloading autopage-0.5.1-py3-none-any.whl (29 kB)\n",
            "Collecting cmd2>=1.0.0\n",
            "  Downloading cmd2-2.4.2-py3-none-any.whl (147 kB)\n",
            "\u001b[K     |████████████████████████████████| 147 kB 37.4 MB/s \n",
            "\u001b[?25hCollecting stevedore>=2.0.1\n",
            "  Downloading stevedore-4.1.1-py3-none-any.whl (50 kB)\n",
            "\u001b[K     |████████████████████████████████| 50 kB 5.2 MB/s \n",
            "\u001b[?25hRequirement already satisfied: PrettyTable>=0.7.2 in /usr/local/lib/python3.8/dist-packages (from cliff->optuna<3.1,>=2.10.0->skforecast) (3.5.0)\n",
            "Collecting pyperclip>=1.6\n",
            "  Downloading pyperclip-1.8.2.tar.gz (20 kB)\n",
            "Requirement already satisfied: attrs>=16.3.0 in /usr/local/lib/python3.8/dist-packages (from cmd2>=1.0.0->cliff->optuna<3.1,>=2.10.0->skforecast) (22.1.0)\n",
            "Requirement already satisfied: wcwidth>=0.1.7 in /usr/local/lib/python3.8/dist-packages (from cmd2>=1.0.0->cliff->optuna<3.1,>=2.10.0->skforecast) (0.2.5)\n",
            "Collecting pbr!=2.1.0,>=2.0.0\n",
            "  Downloading pbr-5.11.0-py2.py3-none-any.whl (112 kB)\n",
            "\u001b[K     |████████████████████████████████| 112 kB 61.1 MB/s \n",
            "\u001b[?25hRequirement already satisfied: MarkupSafe>=0.9.2 in /usr/local/lib/python3.8/dist-packages (from Mako->alembic>=1.5.0->optuna<3.1,>=2.10.0->skforecast) (2.0.1)\n",
            "Building wheels for collected packages: pyperclip\n",
            "  Building wheel for pyperclip (setup.py) ... \u001b[?25l\u001b[?25hdone\n",
            "  Created wheel for pyperclip: filename=pyperclip-1.8.2-py3-none-any.whl size=11136 sha256=4931a48b0fbfe94f148e34749d9c96d3641e73d6fda788da2cfca3d61cc1d975\n",
            "  Stored in directory: /root/.cache/pip/wheels/7f/1a/65/84ff8c386bec21fca6d220ea1f5498a0367883a78dd5ba6122\n",
            "Successfully built pyperclip\n",
            "Installing collected packages: pyperclip, pbr, stevedore, Mako, importlib-metadata, cmd2, autopage, pyaml, colorlog, cmaes, cliff, alembic, scikit-optimize, optuna, skforecast\n",
            "  Attempting uninstall: importlib-metadata\n",
            "    Found existing installation: importlib-metadata 5.1.0\n",
            "    Uninstalling importlib-metadata-5.1.0:\n",
            "      Successfully uninstalled importlib-metadata-5.1.0\n",
            "Successfully installed Mako-1.2.4 alembic-1.9.0 autopage-0.5.1 cliff-4.1.0 cmaes-0.9.0 cmd2-2.4.2 colorlog-6.7.0 importlib-metadata-4.13.0 optuna-3.0.5 pbr-5.11.0 pyaml-21.10.1 pyperclip-1.8.2 scikit-optimize-0.9.0 skforecast-0.6.0 stevedore-4.1.1\n"
          ]
        }
      ]
    },
    {
      "cell_type": "code",
      "source": [
        "df=pd.read_excel(\"/content/Mediana-compra-predicci-n/DOC-20221125-WA0066.xlsx\", index_col=0, \n",
        "                 parse_dates=True,names=['Fecha','Ofertas_Compra','Ofertas_Venta','Mínimo','Máximo','Promedio','Mediana','Mediana_Compra','Mediana_Venta','Moda','Moda_Frecuencia'])"
      ],
      "metadata": {
        "id": "KcsUWRnGt73y"
      },
      "execution_count": null,
      "outputs": []
    },
    {
      "cell_type": "code",
      "source": [
        "df['Ofertas_Compra'].plot()"
      ],
      "metadata": {
        "colab": {
          "base_uri": "https://localhost:8080/",
          "height": 294
        },
        "id": "q-_bQO7NXh9i",
        "outputId": "a834c322-c655-4ee0-e7ba-3aabf8a5222e"
      },
      "execution_count": null,
      "outputs": [
        {
          "output_type": "execute_result",
          "data": {
            "text/plain": [
              "<matplotlib.axes._subplots.AxesSubplot at 0x7f38e50776d0>"
            ]
          },
          "metadata": {},
          "execution_count": 9
        },
        {
          "output_type": "display_data",
          "data": {
            "text/plain": [
              "<Figure size 432x288 with 1 Axes>"
            ],
            "image/png": "[encoded data removed]"
          },
          "metadata": {
            "needs_background": "light"
          }
        }
      ]
    },
    {
      "cell_type": "code",
      "source": [
        "df[(df.index>datetime.datetime(2021,7,1)) & (df.index<datetime.datetime(2021,8,1))]['Ofertas_Compra']"
      ],
      "metadata": {
        "colab": {
          "base_uri": "https://localhost:8080/"
        },
        "id": "K-fBTSLFYcdo",
        "outputId": "f455d0a2-5698-4334-f9d5-da3cc259617c"
      },
      "execution_count": null,
      "outputs": [
        {
          "output_type": "execute_result",
          "data": {
            "text/plain": [
              "Fecha\n",
              "2021-07-31    49\n",
              "2021-07-30    61\n",
              "2021-07-29    60\n",
              "2021-07-28    32\n",
              "2021-07-27    36\n",
              "2021-07-26    26\n",
              "2021-07-25     0\n",
              "2021-07-24     0\n",
              "2021-07-23     0\n",
              "2021-07-22     0\n",
              "2021-07-21     0\n",
              "2021-07-20     0\n",
              "2021-07-19     0\n",
              "2021-07-18     0\n",
              "2021-07-17     0\n",
              "2021-07-16     0\n",
              "2021-07-15     0\n",
              "2021-07-14     0\n",
              "2021-07-13     0\n",
              "2021-07-12     0\n",
              "2021-07-11     0\n",
              "2021-07-10     0\n",
              "2021-07-09     0\n",
              "2021-07-08     0\n",
              "2021-07-07     0\n",
              "2021-07-06     0\n",
              "2021-07-05     0\n",
              "2021-07-04     0\n",
              "2021-07-03     0\n",
              "2021-07-02     0\n",
              "Name: Ofertas_Compra, dtype: int64"
            ]
          },
          "metadata": {},
          "execution_count": 8
        }
      ]
    },
    {
      "cell_type": "code",
      "source": [
        "df=df[df.index>datetime.datetime(2021,7,25)]\n"
      ],
      "metadata": {
        "id": "oo4-Is3pvc5V"
      },
      "execution_count": null,
      "outputs": []
    },
    {
      "cell_type": "code",
      "source": [
        "df.sort_index(inplace=True)\n",
        "df"
      ],
      "metadata": {
        "id": "bxPQ4wLmwz5g",
        "colab": {
          "base_uri": "https://localhost:8080/",
          "height": 693
        },
        "outputId": "13abe2e2-6e4c-4366-d95b-0c01c9cf7472"
      },
      "execution_count": null,
      "outputs": [
        {
          "output_type": "execute_result",
          "data": {
            "text/plain": [
              "            Ofertas_Compra  Ofertas_Venta  Mínimo  Máximo  Promedio  Mediana  \\\n",
              "Fecha                                                                          \n",
              "2021-07-26              26            153    70.0    90.0     76.93     77.0   \n",
              "2021-07-27              36            212    70.0    85.0     76.73     77.0   \n",
              "2021-07-28              32            198    55.0    81.0     76.81     77.0   \n",
              "2021-07-29              60            130    66.0    95.0     76.30     76.0   \n",
              "2021-07-30              61            164    60.0    85.0     76.44     77.0   \n",
              "...                    ...            ...     ...     ...       ...      ...   \n",
              "2022-10-21              88            689   150.0   205.0    173.27    175.0   \n",
              "2022-10-22              92            576   150.0   190.0    170.37    170.0   \n",
              "2022-10-23             103            464   145.0   185.0    167.72    170.0   \n",
              "2022-10-24              96            516   150.0   180.0    166.96    170.0   \n",
              "2022-10-25              58            355   145.0   180.0    166.07    165.0   \n",
              "\n",
              "            Mediana_Compra  Mediana_Venta   Moda  Moda_Frecuencia  \n",
              "Fecha                                                              \n",
              "2021-07-26            74.0           77.0   78.0               45  \n",
              "2021-07-27            75.0           77.0   75.0               67  \n",
              "2021-07-28            75.0           77.0   75.0               48  \n",
              "2021-07-29            74.0           77.0   77.0               32  \n",
              "2021-07-30            75.0           77.0   75.0               61  \n",
              "...                    ...            ...    ...              ...  \n",
              "2022-10-21           165.0          175.0  175.0              231  \n",
              "2022-10-22           160.0          170.0  170.0              253  \n",
              "2022-10-23           160.0          170.0  170.0              216  \n",
              "2022-10-24           160.0          170.0  170.0              226  \n",
              "2022-10-25           160.0          168.0  170.0              134  \n",
              "\n",
              "[457 rows x 10 columns]"
            ],
            "text/html": [
              "\n",
              "  <div id=\"df-d68aef89-7b64-4fa9-8ce8-f41bff10846d\">\n",
              "    <div class=\"colab-df-container\">\n",
              "      <div>\n",
              "<style scoped>\n",
              "    .dataframe tbody tr th:only-of-type {\n",
              "        vertical-align: middle;\n",
              "    }\n",
              "\n",
              "    .dataframe tbody tr th {\n",
              "        vertical-align: top;\n",
              "    }\n",
              "\n",
              "    .dataframe thead th {\n",
              "        text-align: right;\n",
              "    }\n",
              "</style>\n",
              "<table border=\"1\" class=\"dataframe\">\n",
              "  <thead>\n",
              "    <tr style=\"text-align: right;\">\n",
              "      <th></th>\n",
              "      <th>Ofertas_Compra</th>\n",
              "      <th>Ofertas_Venta</th>\n",
              "      <th>Mínimo</th>\n",
              "      <th>Máximo</th>\n",
              "      <th>Promedio</th>\n",
              "      <th>Mediana</th>\n",
              "      <th>Mediana_Compra</th>\n",
              "      <th>Mediana_Venta</th>\n",
              "      <th>Moda</th>\n",
              "      <th>Moda_Frecuencia</th>\n",
              "    </tr>\n",
              "    <tr>\n",
              "      <th>Fecha</th>\n",
              "      <th></th>\n",
              "      <th></th>\n",
              "      <th></th>\n",
              "      <th></th>\n",
              "      <th></th>\n",
              "      <th></th>\n",
              "      <th></th>\n",
              "      <th></th>\n",
              "      <th></th>\n",
              "      <th></th>\n",
              "    </tr>\n",
              "  </thead>\n",
              "  <tbody>\n",
              "    <tr>\n",
              "      <th>2021-07-26</th>\n",
              "      <td>26</td>\n",
              "      <td>153</td>\n",
              "      <td>70.0</td>\n",
              "      <td>90.0</td>\n",
              "      <td>76.93</td>\n",
              "      <td>77.0</td>\n",
              "      <td>74.0</td>\n",
              "      <td>77.0</td>\n",
              "      <td>78.0</td>\n",
              "      <td>45</td>\n",
              "    </tr>\n",
              "    <tr>\n",
              "      <th>2021-07-27</th>\n",
              "      <td>36</td>\n",
              "      <td>212</td>\n",
              "      <td>70.0</td>\n",
              "      <td>85.0</td>\n",
              "      <td>76.73</td>\n",
              "      <td>77.0</td>\n",
              "      <td>75.0</td>\n",
              "      <td>77.0</td>\n",
              "      <td>75.0</td>\n",
              "      <td>67</td>\n",
              "    </tr>\n",
              "    <tr>\n",
              "      <th>2021-07-28</th>\n",
              "      <td>32</td>\n",
              "      <td>198</td>\n",
              "      <td>55.0</td>\n",
              "      <td>81.0</td>\n",
              "      <td>76.81</td>\n",
              "      <td>77.0</td>\n",
              "      <td>75.0</td>\n",
              "      <td>77.0</td>\n",
              "      <td>75.0</td>\n",
              "      <td>48</td>\n",
              "    </tr>\n",
              "    <tr>\n",
              "      <th>2021-07-29</th>\n",
              "      <td>60</td>\n",
              "      <td>130</td>\n",
              "      <td>66.0</td>\n",
              "      <td>95.0</td>\n",
              "      <td>76.30</td>\n",
              "      <td>76.0</td>\n",
              "      <td>74.0</td>\n",
              "      <td>77.0</td>\n",
              "      <td>77.0</td>\n",
              "      <td>32</td>\n",
              "    </tr>\n",
              "    <tr>\n",
              "      <th>2021-07-30</th>\n",
              "      <td>61</td>\n",
              "      <td>164</td>\n",
              "      <td>60.0</td>\n",
              "      <td>85.0</td>\n",
              "      <td>76.44</td>\n",
              "      <td>77.0</td>\n",
              "      <td>75.0</td>\n",
              "      <td>77.0</td>\n",
              "      <td>75.0</td>\n",
              "      <td>61</td>\n",
              "    </tr>\n",
              "    <tr>\n",
              "      <th>...</th>\n",
              "      <td>...</td>\n",
              "      <td>...</td>\n",
              "      <td>...</td>\n",
              "      <td>...</td>\n",
              "      <td>...</td>\n",
              "      <td>...</td>\n",
              "      <td>...</td>\n",
              "      <td>...</td>\n",
              "      <td>...</td>\n",
              "      <td>...</td>\n",
              "    </tr>\n",
              "    <tr>\n",
              "      <th>2022-10-21</th>\n",
              "      <td>88</td>\n",
              "      <td>689</td>\n",
              "      <td>150.0</td>\n",
              "      <td>205.0</td>\n",
              "      <td>173.27</td>\n",
              "      <td>175.0</td>\n",
              "      <td>165.0</td>\n",
              "      <td>175.0</td>\n",
              "      <td>175.0</td>\n",
              "      <td>231</td>\n",
              "    </tr>\n",
              "    <tr>\n",
              "      <th>2022-10-22</th>\n",
              "      <td>92</td>\n",
              "      <td>576</td>\n",
              "      <td>150.0</td>\n",
              "      <td>190.0</td>\n",
              "      <td>170.37</td>\n",
              "      <td>170.0</td>\n",
              "      <td>160.0</td>\n",
              "      <td>170.0</td>\n",
              "      <td>170.0</td>\n",
              "      <td>253</td>\n",
              "    </tr>\n",
              "    <tr>\n",
              "      <th>2022-10-23</th>\n",
              "      <td>103</td>\n",
              "      <td>464</td>\n",
              "      <td>145.0</td>\n",
              "      <td>185.0</td>\n",
              "      <td>167.72</td>\n",
              "      <td>170.0</td>\n",
              "      <td>160.0</td>\n",
              "      <td>170.0</td>\n",
              "      <td>170.0</td>\n",
              "      <td>216</td>\n",
              "    </tr>\n",
              "    <tr>\n",
              "      <th>2022-10-24</th>\n",
              "      <td>96</td>\n",
              "      <td>516</td>\n",
              "      <td>150.0</td>\n",
              "      <td>180.0</td>\n",
              "      <td>166.96</td>\n",
              "      <td>170.0</td>\n",
              "      <td>160.0</td>\n",
              "      <td>170.0</td>\n",
              "      <td>170.0</td>\n",
              "      <td>226</td>\n",
              "    </tr>\n",
              "    <tr>\n",
              "      <th>2022-10-25</th>\n",
              "      <td>58</td>\n",
              "      <td>355</td>\n",
              "      <td>145.0</td>\n",
              "      <td>180.0</td>\n",
              "      <td>166.07</td>\n",
              "      <td>165.0</td>\n",
              "      <td>160.0</td>\n",
              "      <td>168.0</td>\n",
              "      <td>170.0</td>\n",
              "      <td>134</td>\n",
              "    </tr>\n",
              "  </tbody>\n",
              "</table>\n",
              "<p>457 rows × 10 columns</p>\n",
              "</div>\n",
              "      <button class=\"colab-df-convert\" onclick=\"convertToInteractive('df-d68aef89-7b64-4fa9-8ce8-f41bff10846d')\"\n",
              "              title=\"Convert this dataframe to an interactive table.\"\n",
              "              style=\"display:none;\">\n",
              "        \n",
              "  <svg xmlns=\"http://www.w3.org/2000/svg\" height=\"24px\"viewBox=\"0 0 24 24\"\n",
              "       width=\"24px\">\n",
              "    <path d=\"M0 0h24v24H0V0z\" fill=\"none\"/>\n",
              "    <path d=\"M18.56 5.44l.94 2.06.94-2.06 2.06-.94-2.06-.94-.94-2.06-.94 2.06-2.06.94zm-11 1L8.5 8.5l.94-2.06 2.06-.94-2.06-.94L8.5 2.5l-.94 2.06-2.06.94zm10 10l.94 2.06.94-2.06 2.06-.94-2.06-.94-.94-2.06-.94 2.06-2.06.94z\"/><path d=\"M17.41 7.96l-1.37-1.37c-.4-.4-.92-.59-1.43-.59-.52 0-1.04.2-1.43.59L10.3 9.45l-7.72 7.72c-.78.78-.78 2.05 0 2.83L4 21.41c.39.39.9.59 1.41.59.51 0 1.02-.2 1.41-.59l7.78-7.78 2.81-2.81c.8-.78.8-2.07 0-2.86zM5.41 20L4 18.59l7.72-7.72 1.47 1.35L5.41 20z\"/>\n",
              "  </svg>\n",
              "      </button>\n",
              "      \n",
              "  <style>\n",
              "    .colab-df-container {\n",
              "      display:flex;\n",
              "      flex-wrap:wrap;\n",
              "      gap: 12px;\n",
              "    }\n",
              "\n",
              "    .colab-df-convert {\n",
              "      background-color: #E8F0FE;\n",
              "      border: none;\n",
              "      border-radius: 50%;\n",
              "      cursor: pointer;\n",
              "      display: none;\n",
              "      fill: #1967D2;\n",
              "      height: 32px;\n",
              "      padding: 0 0 0 0;\n",
              "      width: 32px;\n",
              "    }\n",
              "\n",
              "    .colab-df-convert:hover {\n",
              "      background-color: #E2EBFA;\n",
              "      box-shadow: 0px 1px 2px rgba(60, 64, 67, 0.3), 0px 1px 3px 1px rgba(60, 64, 67, 0.15);\n",
              "      fill: #174EA6;\n",
              "    }\n",
              "\n",
              "    [theme=dark] .colab-df-convert {\n",
              "      background-color: #3B4455;\n",
              "      fill: #D2E3FC;\n",
              "    }\n",
              "\n",
              "    [theme=dark] .colab-df-convert:hover {\n",
              "      background-color: #434B5C;\n",
              "      box-shadow: 0px 1px 3px 1px rgba(0, 0, 0, 0.15);\n",
              "      filter: drop-shadow(0px 1px 2px rgba(0, 0, 0, 0.3));\n",
              "      fill: #FFFFFF;\n",
              "    }\n",
              "  </style>\n",
              "\n",
              "      <script>\n",
              "        const buttonEl =\n",
              "          document.querySelector('#df-d68aef89-7b64-4fa9-8ce8-f41bff10846d button.colab-df-convert');\n",
              "        buttonEl.style.display =\n",
              "          google.colab.kernel.accessAllowed ? 'block' : 'none';\n",
              "\n",
              "        async function convertToInteractive(key) {\n",
              "          const element = document.querySelector('#df-d68aef89-7b64-4fa9-8ce8-f41bff10846d');\n",
              "          const dataTable =\n",
              "            await google.colab.kernel.invokeFunction('convertToInteractive',\n",
              "                                                     [key], {});\n",
              "          if (!dataTable) return;\n",
              "\n",
              "          const docLinkHtml = 'Like what you see? Visit the ' +\n",
              "            '<a target=\"_blank\" href=https://colab.research.google.com/notebooks/data_table.ipynb>data table notebook</a>'\n",
              "            + ' to learn more about interactive tables.';\n",
              "          element.innerHTML = '';\n",
              "          dataTable['output_type'] = 'display_data';\n",
              "          await google.colab.output.renderOutput(dataTable, element);\n",
              "          const docLink = document.createElement('div');\n",
              "          docLink.innerHTML = docLinkHtml;\n",
              "          element.appendChild(docLink);\n",
              "        }\n",
              "      </script>\n",
              "    </div>\n",
              "  </div>\n",
              "  "
            ]
          },
          "metadata": {},
          "execution_count": 11
        }
      ]
    },
    {
      "cell_type": "code",
      "source": [
        "steps = 20\n",
        "datos_train = df[:-steps]\n",
        "datos_test  = df[-steps:]\n",
        "\n",
        "print(f\"Fechas train : {datos_train.index.min()} --- {datos_train.index.max()}  (n={len(datos_train)})\")\n",
        "print(f\"Fechas test  : {datos_test.index.min()} --- {datos_test.index.max()}  (n={len(datos_test)})\")\n",
        "\n",
        "fig, ax = plt.subplots(figsize=(9, 4))\n",
        "datos_train['Mediana_Compra'].plot(ax=ax, label='train')\n",
        "datos_test['Mediana_Compra'].plot(ax=ax, label='test')\n",
        "ax.legend();"
      ],
      "metadata": {
        "colab": {
          "base_uri": "https://localhost:8080/",
          "height": 328
        },
        "id": "DgrRB76Wvd5w",
        "outputId": "d2252ccb-6228-4225-aeba-5d4fc3e43cb0"
      },
      "execution_count": null,
      "outputs": [
        {
          "output_type": "stream",
          "name": "stdout",
          "text": [
            "Fechas train : 2021-07-26 00:00:00 --- 2022-10-05 00:00:00  (n=437)\n",
            "Fechas test  : 2022-10-06 00:00:00 --- 2022-10-25 00:00:00  (n=20)\n"
          ]
        },
        {
          "output_type": "display_data",
          "data": {
            "text/plain": [
              "<Figure size 648x288 with 1 Axes>"
            ],
            "image/png": "[encoded data removed]"
          },
          "metadata": {
            "needs_background": "light"
          }
        }
      ]
    },
    {
      "cell_type": "code",
      "source": [],
      "metadata": {
        "id": "V3tq_zsfa7rm"
      },
      "execution_count": null,
      "outputs": []
    },
    {
      "cell_type": "code",
      "source": [
        "forecaster = ForecasterAutoreg(regressor = RandomForestRegressor(random_state=123),lags = 6)\n",
        "\n",
        "forecaster.fit(y=datos_train['Mediana_Compra'])\n",
        "forecaster"
      ],
      "metadata": {
        "colab": {
          "base_uri": "https://localhost:8080/"
        },
        "id": "Iv1ccepFyDq7",
        "outputId": "c262a63c-972a-4e6d-cbfb-a1b0ba6539bb"
      },
      "execution_count": null,
      "outputs": [
        {
          "output_type": "execute_result",
          "data": {
            "text/plain": [
              "================= \n",
              "ForecasterAutoreg \n",
              "================= \n",
              "Regressor: RandomForestRegressor(random_state=123) \n",
              "Lags: [1 2 3 4 5 6] \n",
              "Transformer for y: None \n",
              "Transformer for exog: None \n",
              "Window size: 6 \n",
              "Weight function included: False \n",
              "Exogenous included: False \n",
              "Type of exogenous variable: None \n",
              "Exogenous variables names: None \n",
              "Training range: [0, 436] \n",
              "Training index type: RangeIndex \n",
              "Training index frequency: 1 \n",
              "Regressor parameters: {'bootstrap': True, 'ccp_alpha': 0.0, 'criterion': 'squared_error', 'max_depth': None, 'max_features': 'auto', 'max_leaf_nodes': None, 'max_samples': None, 'min_impurity_decrease': 0.0, 'min_samples_leaf': 1, 'min_samples_split': 2, 'min_weight_fraction_leaf': 0.0, 'n_estimators': 100, 'n_jobs': None, 'oob_score': False, 'random_state': 123, 'verbose': 0, 'warm_start': False} \n",
              "Creation date: 2022-12-20 16:36:40 \n",
              "Last fit date: 2022-12-20 16:36:41 \n",
              "Skforecast version: 0.6.0 \n",
              "Python version: 3.8.16 "
            ]
          },
          "metadata": {},
          "execution_count": 13
        }
      ]
    },
    {
      "cell_type": "code",
      "source": [
        "predicciones = forecaster.predict(steps=steps)\n",
        "predicciones.index=datos_test.index\n"
      ],
      "metadata": {
        "id": "XcCjRYeAzWXK"
      },
      "execution_count": null,
      "outputs": []
    },
    {
      "cell_type": "code",
      "source": [
        "error_mse = mean_squared_error(\n",
        "                y_true = datos_test['Mediana_Compra'],\n",
        "                y_pred = predicciones\n",
        "            )\n",
        "\n",
        "print(f\"Error de test (mse): {error_mse}\")"
      ],
      "metadata": {
        "colab": {
          "base_uri": "https://localhost:8080/"
        },
        "id": "juuk6zrqzfl1",
        "outputId": "d096d469-49ae-4a84-c153-377490ba4178"
      },
      "execution_count": null,
      "outputs": [
        {
          "output_type": "stream",
          "name": "stdout",
          "text": [
            "Error de test (mse): 409.2392562500004\n"
          ]
        }
      ]
    },
    {
      "cell_type": "code",
      "source": [
        "fig, ax = plt.subplots(figsize=(9, 4))\n",
        "datos_train['Mediana_Compra'].plot(ax=ax, label='train')\n",
        "datos_test['Mediana_Compra'].plot(ax=ax, label='test')\n",
        "predicciones.plot(ax=ax, label='predicciones')\n",
        "ax.legend()"
      ],
      "metadata": {
        "colab": {
          "base_uri": "https://localhost:8080/",
          "height": 310
        },
        "id": "C2mluzH30rKt",
        "outputId": "e454d489-2773-4b57-eda4-86dfeaa63cea"
      },
      "execution_count": null,
      "outputs": [
        {
          "output_type": "execute_result",
          "data": {
            "text/plain": [
              "<matplotlib.legend.Legend at 0x7f38e49e3cd0>"
            ]
          },
          "metadata": {},
          "execution_count": 16
        },
        {
          "output_type": "display_data",
          "data": {
            "text/plain": [
              "<Figure size 648x288 with 1 Axes>"
            ],
            "image/png": "[encoded data removed]"
          },
          "metadata": {
            "needs_background": "light"
          }
        }
      ]
    },
    {
      "cell_type": "code",
      "source": [
        "steps = 20\n",
        "forecaster = ForecasterAutoreg(\n",
        "                regressor = RandomForestRegressor(random_state=123),\n",
        "                lags      = 12 # Este valor será remplazado en el grid search\n",
        "             )\n",
        "\n",
        "# Lags utilizados como predictores\n",
        "lags_grid = [10, 20]\n",
        "\n",
        "# Hiperparámetros del regresor\n",
        "param_grid = {'n_estimators': [100, 500],\n",
        "              'max_depth': [3, 5, 10]}\n",
        "\n",
        "resultados_grid = grid_search_forecaster(\n",
        "                        forecaster         = forecaster,\n",
        "                        y                  = datos_train['Mediana_Compra'],\n",
        "                        param_grid         = param_grid,\n",
        "                        lags_grid          = lags_grid,\n",
        "                        steps              = steps,\n",
        "                        refit              = True,\n",
        "                        metric             = 'mean_squared_error',\n",
        "                        initial_train_size = int(len(datos_train)*0.5),\n",
        "                        fixed_train_size   = False,\n",
        "                        return_best        = True,\n",
        "                        verbose            = False\n",
        "                        \n",
        "                  )"
      ],
      "metadata": {
        "colab": {
          "base_uri": "https://localhost:8080/"
        },
        "id": "3Gw_pXrF3j6x",
        "outputId": "e0ad6cd1-507a-4d64-ab36-e06de7c8fe63"
      },
      "execution_count": 18,
      "outputs": [
        {
          "output_type": "stream",
          "name": "stdout",
          "text": [
            "Number of models compared: 12.\n"
          ]
        },
        {
          "output_type": "stream",
          "name": "stderr",
          "text": [
            "loop lags_grid:   0%|                                               | 0/2 [00:00<?, ?it/s]\n",
            "loop param_grid:   0%|                                              | 0/6 [00:00<?, ?it/s]\u001b[A\n",
            "loop param_grid:  17%|██████▎                               | 1/6 [00:05<00:27,  5.59s/it]\u001b[A\n",
            "loop param_grid:  33%|████████████▋                         | 2/6 [00:28<01:03, 15.97s/it]\u001b[A\n",
            "loop param_grid:  50%|███████████████████                   | 3/6 [00:32<00:31, 10.40s/it]\u001b[A\n",
            "loop param_grid:  67%|█████████████████████████▎            | 4/6 [00:50<00:26, 13.26s/it]\u001b[A\n",
            "loop param_grid:  83%|███████████████████████████████▋      | 5/6 [00:54<00:09,  9.88s/it]\u001b[A\n",
            "loop param_grid: 100%|██████████████████████████████████████| 6/6 [01:14<00:00, 13.55s/it]\u001b[A\n",
            "loop lags_grid:  50%|███████████████████▌                   | 1/2 [01:14<01:14, 74.82s/it]\n",
            "loop param_grid:   0%|                                              | 0/6 [00:00<?, ?it/s]\u001b[A\n",
            "loop param_grid:  17%|██████▎                               | 1/6 [00:03<00:19,  3.99s/it]\u001b[A\n",
            "loop param_grid:  33%|████████████▋                         | 2/6 [00:22<00:51, 12.82s/it]\u001b[A\n",
            "loop param_grid:  50%|███████████████████                   | 3/6 [00:27<00:26,  8.89s/it]\u001b[A\n",
            "loop param_grid:  67%|█████████████████████████▎            | 4/6 [00:46<00:26, 13.12s/it]\u001b[A\n",
            "loop param_grid:  83%|███████████████████████████████▋      | 5/6 [00:51<00:09,  9.98s/it]\u001b[A\n",
            "loop param_grid: 100%|██████████████████████████████████████| 6/6 [01:12<00:00, 13.95s/it]\u001b[A\n",
            "loop lags_grid: 100%|███████████████████████████████████████| 2/2 [02:27<00:00, 73.87s/it]\n"
          ]
        },
        {
          "output_type": "stream",
          "name": "stdout",
          "text": [
            "`Forecaster` refitted using the best-found lags and parameters, and the whole data set: \n",
            "  Lags: [ 1  2  3  4  5  6  7  8  9 10 11 12 13 14 15 16 17 18 19 20] \n",
            "  Parameters: {'max_depth': 10, 'n_estimators': 100}\n",
            "  Backtesting metric: 91.16499006849317\n",
            "\n"
          ]
        }
      ]
    },
    {
      "cell_type": "code",
      "source": [
        "resultados_grid"
      ],
      "metadata": {
        "colab": {
          "base_uri": "https://localhost:8080/",
          "height": 678
        },
        "id": "twR0rXCZ-Eei",
        "outputId": "92dd4864-9452-457b-8ab2-7355f8a76b00"
      },
      "execution_count": 19,
      "outputs": [
        {
          "output_type": "execute_result",
          "data": {
            "text/plain": [
              "                                                 lags  \\\n",
              "10  [1, 2, 3, 4, 5, 6, 7, 8, 9, 10, 11, 12, 13, 14...   \n",
              "11  [1, 2, 3, 4, 5, 6, 7, 8, 9, 10, 11, 12, 13, 14...   \n",
              "2                     [1, 2, 3, 4, 5, 6, 7, 8, 9, 10]   \n",
              "9   [1, 2, 3, 4, 5, 6, 7, 8, 9, 10, 11, 12, 13, 14...   \n",
              "3                     [1, 2, 3, 4, 5, 6, 7, 8, 9, 10]   \n",
              "8   [1, 2, 3, 4, 5, 6, 7, 8, 9, 10, 11, 12, 13, 14...   \n",
              "4                     [1, 2, 3, 4, 5, 6, 7, 8, 9, 10]   \n",
              "5                     [1, 2, 3, 4, 5, 6, 7, 8, 9, 10]   \n",
              "6   [1, 2, 3, 4, 5, 6, 7, 8, 9, 10, 11, 12, 13, 14...   \n",
              "7   [1, 2, 3, 4, 5, 6, 7, 8, 9, 10, 11, 12, 13, 14...   \n",
              "1                     [1, 2, 3, 4, 5, 6, 7, 8, 9, 10]   \n",
              "0                     [1, 2, 3, 4, 5, 6, 7, 8, 9, 10]   \n",
              "\n",
              "                                    params  mean_squared_error  max_depth  \\\n",
              "10  {'max_depth': 10, 'n_estimators': 100}           91.164990         10   \n",
              "11  {'max_depth': 10, 'n_estimators': 500}           91.840869         10   \n",
              "2    {'max_depth': 5, 'n_estimators': 100}           95.386726          5   \n",
              "9    {'max_depth': 5, 'n_estimators': 500}           95.986866          5   \n",
              "3    {'max_depth': 5, 'n_estimators': 500}           96.004807          5   \n",
              "8    {'max_depth': 5, 'n_estimators': 100}           96.547067          5   \n",
              "4   {'max_depth': 10, 'n_estimators': 100}           97.173786         10   \n",
              "5   {'max_depth': 10, 'n_estimators': 500}           97.624117         10   \n",
              "6    {'max_depth': 3, 'n_estimators': 100}          146.987252          3   \n",
              "7    {'max_depth': 3, 'n_estimators': 500}          147.851738          3   \n",
              "1    {'max_depth': 3, 'n_estimators': 500}          149.165023          3   \n",
              "0    {'max_depth': 3, 'n_estimators': 100}          151.622525          3   \n",
              "\n",
              "    n_estimators  \n",
              "10           100  \n",
              "11           500  \n",
              "2            100  \n",
              "9            500  \n",
              "3            500  \n",
              "8            100  \n",
              "4            100  \n",
              "5            500  \n",
              "6            100  \n",
              "7            500  \n",
              "1            500  \n",
              "0            100  "
            ],
            "text/html": [
              "\n",
              "  <div id=\"df-17328f5c-e6fe-4fd1-9a5c-8f11fd811c31\">\n",
              "    <div class=\"colab-df-container\">\n",
              "      <div>\n",
              "<style scoped>\n",
              "    .dataframe tbody tr th:only-of-type {\n",
              "        vertical-align: middle;\n",
              "    }\n",
              "\n",
              "    .dataframe tbody tr th {\n",
              "        vertical-align: top;\n",
              "    }\n",
              "\n",
              "    .dataframe thead th {\n",
              "        text-align: right;\n",
              "    }\n",
              "</style>\n",
              "<table border=\"1\" class=\"dataframe\">\n",
              "  <thead>\n",
              "    <tr style=\"text-align: right;\">\n",
              "      <th></th>\n",
              "      <th>lags</th>\n",
              "      <th>params</th>\n",
              "      <th>mean_squared_error</th>\n",
              "      <th>max_depth</th>\n",
              "      <th>n_estimators</th>\n",
              "    </tr>\n",
              "  </thead>\n",
              "  <tbody>\n",
              "    <tr>\n",
              "      <th>10</th>\n",
              "      <td>[1, 2, 3, 4, 5, 6, 7, 8, 9, 10, 11, 12, 13, 14...</td>\n",
              "      <td>{'max_depth': 10, 'n_estimators': 100}</td>\n",
              "      <td>91.164990</td>\n",
              "      <td>10</td>\n",
              "      <td>100</td>\n",
              "    </tr>\n",
              "    <tr>\n",
              "      <th>11</th>\n",
              "      <td>[1, 2, 3, 4, 5, 6, 7, 8, 9, 10, 11, 12, 13, 14...</td>\n",
              "      <td>{'max_depth': 10, 'n_estimators': 500}</td>\n",
              "      <td>91.840869</td>\n",
              "      <td>10</td>\n",
              "      <td>500</td>\n",
              "    </tr>\n",
              "    <tr>\n",
              "      <th>2</th>\n",
              "      <td>[1, 2, 3, 4, 5, 6, 7, 8, 9, 10]</td>\n",
              "      <td>{'max_depth': 5, 'n_estimators': 100}</td>\n",
              "      <td>95.386726</td>\n",
              "      <td>5</td>\n",
              "      <td>100</td>\n",
              "    </tr>\n",
              "    <tr>\n",
              "      <th>9</th>\n",
              "      <td>[1, 2, 3, 4, 5, 6, 7, 8, 9, 10, 11, 12, 13, 14...</td>\n",
              "      <td>{'max_depth': 5, 'n_estimators': 500}</td>\n",
              "      <td>95.986866</td>\n",
              "      <td>5</td>\n",
              "      <td>500</td>\n",
              "    </tr>\n",
              "    <tr>\n",
              "      <th>3</th>\n",
              "      <td>[1, 2, 3, 4, 5, 6, 7, 8, 9, 10]</td>\n",
              "      <td>{'max_depth': 5, 'n_estimators': 500}</td>\n",
              "      <td>96.004807</td>\n",
              "      <td>5</td>\n",
              "      <td>500</td>\n",
              "    </tr>\n",
              "    <tr>\n",
              "      <th>8</th>\n",
              "      <td>[1, 2, 3, 4, 5, 6, 7, 8, 9, 10, 11, 12, 13, 14...</td>\n",
              "      <td>{'max_depth': 5, 'n_estimators': 100}</td>\n",
              "      <td>96.547067</td>\n",
              "      <td>5</td>\n",
              "      <td>100</td>\n",
              "    </tr>\n",
              "    <tr>\n",
              "      <th>4</th>\n",
              "      <td>[1, 2, 3, 4, 5, 6, 7, 8, 9, 10]</td>\n",
              "      <td>{'max_depth': 10, 'n_estimators': 100}</td>\n",
              "      <td>97.173786</td>\n",
              "      <td>10</td>\n",
              "      <td>100</td>\n",
              "    </tr>\n",
              "    <tr>\n",
              "      <th>5</th>\n",
              "      <td>[1, 2, 3, 4, 5, 6, 7, 8, 9, 10]</td>\n",
              "      <td>{'max_depth': 10, 'n_estimators': 500}</td>\n",
              "      <td>97.624117</td>\n",
              "      <td>10</td>\n",
              "      <td>500</td>\n",
              "    </tr>\n",
              "    <tr>\n",
              "      <th>6</th>\n",
              "      <td>[1, 2, 3, 4, 5, 6, 7, 8, 9, 10, 11, 12, 13, 14...</td>\n",
              "      <td>{'max_depth': 3, 'n_estimators': 100}</td>\n",
              "      <td>146.987252</td>\n",
              "      <td>3</td>\n",
              "      <td>100</td>\n",
              "    </tr>\n",
              "    <tr>\n",
              "      <th>7</th>\n",
              "      <td>[1, 2, 3, 4, 5, 6, 7, 8, 9, 10, 11, 12, 13, 14...</td>\n",
              "      <td>{'max_depth': 3, 'n_estimators': 500}</td>\n",
              "      <td>147.851738</td>\n",
              "      <td>3</td>\n",
              "      <td>500</td>\n",
              "    </tr>\n",
              "    <tr>\n",
              "      <th>1</th>\n",
              "      <td>[1, 2, 3, 4, 5, 6, 7, 8, 9, 10]</td>\n",
              "      <td>{'max_depth': 3, 'n_estimators': 500}</td>\n",
              "      <td>149.165023</td>\n",
              "      <td>3</td>\n",
              "      <td>500</td>\n",
              "    </tr>\n",
              "    <tr>\n",
              "      <th>0</th>\n",
              "      <td>[1, 2, 3, 4, 5, 6, 7, 8, 9, 10]</td>\n",
              "      <td>{'max_depth': 3, 'n_estimators': 100}</td>\n",
              "      <td>151.622525</td>\n",
              "      <td>3</td>\n",
              "      <td>100</td>\n",
              "    </tr>\n",
              "  </tbody>\n",
              "</table>\n",
              "</div>\n",
              "      <button class=\"colab-df-convert\" onclick=\"convertToInteractive('df-17328f5c-e6fe-4fd1-9a5c-8f11fd811c31')\"\n",
              "              title=\"Convert this dataframe to an interactive table.\"\n",
              "              style=\"display:none;\">\n",
              "        \n",
              "  <svg xmlns=\"http://www.w3.org/2000/svg\" height=\"24px\"viewBox=\"0 0 24 24\"\n",
              "       width=\"24px\">\n",
              "    <path d=\"M0 0h24v24H0V0z\" fill=\"none\"/>\n",
              "    <path d=\"M18.56 5.44l.94 2.06.94-2.06 2.06-.94-2.06-.94-.94-2.06-.94 2.06-2.06.94zm-11 1L8.5 8.5l.94-2.06 2.06-.94-2.06-.94L8.5 2.5l-.94 2.06-2.06.94zm10 10l.94 2.06.94-2.06 2.06-.94-2.06-.94-.94-2.06-.94 2.06-2.06.94z\"/><path d=\"M17.41 7.96l-1.37-1.37c-.4-.4-.92-.59-1.43-.59-.52 0-1.04.2-1.43.59L10.3 9.45l-7.72 7.72c-.78.78-.78 2.05 0 2.83L4 21.41c.39.39.9.59 1.41.59.51 0 1.02-.2 1.41-.59l7.78-7.78 2.81-2.81c.8-.78.8-2.07 0-2.86zM5.41 20L4 18.59l7.72-7.72 1.47 1.35L5.41 20z\"/>\n",
              "  </svg>\n",
              "      </button>\n",
              "      \n",
              "  <style>\n",
              "    .colab-df-container {\n",
              "      display:flex;\n",
              "      flex-wrap:wrap;\n",
              "      gap: 12px;\n",
              "    }\n",
              "\n",
              "    .colab-df-convert {\n",
              "      background-color: #E8F0FE;\n",
              "      border: none;\n",
              "      border-radius: 50%;\n",
              "      cursor: pointer;\n",
              "      display: none;\n",
              "      fill: #1967D2;\n",
              "      height: 32px;\n",
              "      padding: 0 0 0 0;\n",
              "      width: 32px;\n",
              "    }\n",
              "\n",
              "    .colab-df-convert:hover {\n",
              "      background-color: #E2EBFA;\n",
              "      box-shadow: 0px 1px 2px rgba(60, 64, 67, 0.3), 0px 1px 3px 1px rgba(60, 64, 67, 0.15);\n",
              "      fill: #174EA6;\n",
              "    }\n",
              "\n",
              "    [theme=dark] .colab-df-convert {\n",
              "      background-color: #3B4455;\n",
              "      fill: #D2E3FC;\n",
              "    }\n",
              "\n",
              "    [theme=dark] .colab-df-convert:hover {\n",
              "      background-color: #434B5C;\n",
              "      box-shadow: 0px 1px 3px 1px rgba(0, 0, 0, 0.15);\n",
              "      filter: drop-shadow(0px 1px 2px rgba(0, 0, 0, 0.3));\n",
              "      fill: #FFFFFF;\n",
              "    }\n",
              "  </style>\n",
              "\n",
              "      <script>\n",
              "        const buttonEl =\n",
              "          document.querySelector('#df-17328f5c-e6fe-4fd1-9a5c-8f11fd811c31 button.colab-df-convert');\n",
              "        buttonEl.style.display =\n",
              "          google.colab.kernel.accessAllowed ? 'block' : 'none';\n",
              "\n",
              "        async function convertToInteractive(key) {\n",
              "          const element = document.querySelector('#df-17328f5c-e6fe-4fd1-9a5c-8f11fd811c31');\n",
              "          const dataTable =\n",
              "            await google.colab.kernel.invokeFunction('convertToInteractive',\n",
              "                                                     [key], {});\n",
              "          if (!dataTable) return;\n",
              "\n",
              "          const docLinkHtml = 'Like what you see? Visit the ' +\n",
              "            '<a target=\"_blank\" href=https://colab.research.google.com/notebooks/data_table.ipynb>data table notebook</a>'\n",
              "            + ' to learn more about interactive tables.';\n",
              "          element.innerHTML = '';\n",
              "          dataTable['output_type'] = 'display_data';\n",
              "          await google.colab.output.renderOutput(dataTable, element);\n",
              "          const docLink = document.createElement('div');\n",
              "          docLink.innerHTML = docLinkHtml;\n",
              "          element.appendChild(docLink);\n",
              "        }\n",
              "      </script>\n",
              "    </div>\n",
              "  </div>\n",
              "  "
            ]
          },
          "metadata": {},
          "execution_count": 19
        }
      ]
    },
    {
      "cell_type": "code",
      "source": [
        "regressor = RandomForestRegressor(max_depth=5, n_estimators=100, random_state=123)\n",
        "forecaster = ForecasterAutoreg(\n",
        "                regressor = regressor,\n",
        "                lags      = 20\n",
        "             )\n",
        "\n",
        "forecaster.fit(y=datos_train['Mediana_Compra'])\n",
        "prediccion = forecaster.predict(steps=steps)"
      ],
      "metadata": {
        "id": "GbHUhYSW_t5X"
      },
      "execution_count": 20,
      "outputs": []
    },
    {
      "cell_type": "code",
      "source": [
        "\n",
        "error_mse = mean_squared_error(\n",
        "                y_true = datos_test['Mediana_Compra'],\n",
        "                y_pred = prediccion\n",
        "            )\n",
        "\n",
        "print(f\"Error de test (mse): {error_mse}\")"
      ],
      "metadata": {
        "colab": {
          "base_uri": "https://localhost:8080/"
        },
        "id": "BR0CYIv1AHds",
        "outputId": "18c01d18-a5ce-4272-ba21-acaf283cbea2"
      },
      "execution_count": 21,
      "outputs": [
        {
          "output_type": "stream",
          "name": "stdout",
          "text": [
            "Error de test (mse): 382.8068600290695\n"
          ]
        }
      ]
    },
    {
      "cell_type": "code",
      "source": [
        "predicciones.index=datos_test.index\n",
        "fig, ax = plt.subplots(figsize=(9, 4))\n",
        "datos_train['Mediana_Compra'].plot(ax=ax, label='train')\n",
        "datos_test['Mediana_Compra'].plot(ax=ax, label='test')\n",
        "predicciones.plot(ax=ax, label='predicciones')\n",
        "ax.legend();"
      ],
      "metadata": {
        "colab": {
          "base_uri": "https://localhost:8080/",
          "height": 293
        },
        "id": "CSqd0_4KAKru",
        "outputId": "d71dea62-aff7-4f47-9854-2d955b96359a"
      },
      "execution_count": 22,
      "outputs": [
        {
          "output_type": "display_data",
          "data": {
            "text/plain": [
              "<Figure size 648x288 with 1 Axes>"
            ],
            "image/png": "[encoded data removed]"
          },
          "metadata": {
            "needs_background": "light"
          }
        }
      ]
    }
  ]
}